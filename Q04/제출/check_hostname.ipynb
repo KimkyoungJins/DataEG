{
 "cells": [
  {
   "cell_type": "markdown",
   "id": "962429f5-0049-45e0-8536-2aba086fa909",
   "metadata": {},
   "source": [
    "AIX30011\n",
    "\n",
    "**_Handong Honor Code_**\n",
    "\n",
    "- You are responsible for understanding and complying with Handong Honor Code.\n",
    "- If you copy someone else's coding or homework assignments or use someone else's creative work without any indication, you will get an F grade. Anyone who shares the code with you will also get an F grade.\n",
    "\n",
    "**_Copyright Notice_**\n",
    "\n",
    "You may not make copies of this and use or distribute it for any purpose.\n",
    "\n",
    "Jaeyoung Chun | School of Applied Artificial Intelligence | Handong Global University"
   ]
  },
  {
   "cell_type": "code",
   "execution_count": 4,
   "id": "2aeec83e-20b3-46f6-a391-05d1ebf0033c",
   "metadata": {},
   "outputs": [],
   "source": [
    "import os\n",
    "import pandas as pd"
   ]
  },
  {
   "cell_type": "markdown",
   "metadata": {},
   "source": []
  },
  {
   "cell_type": "code",
   "execution_count": 33,
   "id": "da335965-06a8-4526-923f-0b91e97acb7b",
   "metadata": {},
   "outputs": [
    {
     "name": "stdout",
     "output_type": "stream",
     "text": [
      "ab94bc42eff3\n"
     ]
    }
   ],
   "source": [
    "print(os.uname().nodename)"
   ]
  },
  {
   "cell_type": "code",
   "execution_count": null,
   "id": "696f58a5-63e8-4de3-a5b8-a489ad410be5",
   "metadata": {},
   "outputs": [],
   "source": []
  },
  {
   "cell_type": "code",
   "execution_count": null,
   "id": "e9a5161a-3c7e-4388-ac0d-96f751e58623",
   "metadata": {},
   "outputs": [],
   "source": []
  }
 ],
 "metadata": {
  "kernelspec": {
   "display_name": "Python 3 (ipykernel)",
   "language": "python",
   "name": "python3"
  },
  "language_info": {
   "codemirror_mode": {
    "name": "ipython",
    "version": 3
   },
   "file_extension": ".py",
   "mimetype": "text/x-python",
   "name": "python",
   "nbconvert_exporter": "python",
   "pygments_lexer": "ipython3",
   "version": "3.11.6"
  }
 },
 "nbformat": 4,
 "nbformat_minor": 5
}
