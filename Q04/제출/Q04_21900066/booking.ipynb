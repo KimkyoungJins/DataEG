{
 "cells": [
  {
   "cell_type": "markdown",
   "id": "962429f5-0049-45e0-8536-2aba086fa909",
   "metadata": {},
   "source": [
    "AIX30011\n",
    "\n",
    "**_Handong Honor Code_**\n",
    "\n",
    "- You are responsible for understanding and complying with Handong Honor Code.\n",
    "- If you copy someone else's coding or homework assignments or use someone else's creative work without any indication, you will get an F grade. Anyone who shares the code with you will also get an F grade.\n",
    "\n",
    "**_Copyright Notice_**\n",
    "\n",
    "You may not make copies of this and use or distribute it for any purpose.\n",
    "\n",
    "Jaeyoung Chun | School of Applied Artificial Intelligence | Handong Global University"
   ]
  },
  {
   "cell_type": "code",
   "execution_count": 4,
   "id": "2aeec83e-20b3-46f6-a391-05d1ebf0033c",
   "metadata": {},
   "outputs": [],
   "source": [
    "import os\n",
    "import pandas as pd"
   ]
  },
  {
   "cell_type": "code",
   "execution_count": 33,
   "id": "da335965-06a8-4526-923f-0b91e97acb7b",
   "metadata": {},
   "outputs": [
    {
     "name": "stdout",
     "output_type": "stream",
     "text": [
      "ab94bc42eff3\n"
     ]
    }
   ],
   "source": [
    "print(os.uname().nodename)"
   ]
  },
  {
   "cell_type": "code",
   "execution_count": 35,
   "id": "696f58a5-63e8-4de3-a5b8-a489ad410be5",
   "metadata": {},
   "outputs": [
    {
     "name": "stdout",
     "output_type": "stream",
     "text": [
      "데이터 화면에 출력\n",
      "    flight_no seat  passenger_id   price\n",
      "0        3863   1A          2947  110.10\n",
      "1        3863  25F         20814  173.10\n",
      "2        3863  25E         33340  323.15\n",
      "3        3863  24D         21401  445.85\n",
      "4        3863  24G         24581  198.32\n",
      "..        ...  ...           ...     ...\n",
      "95      12143  20A           194  312.79\n",
      "96      12143  20G         32025  261.11\n",
      "97      12143  20E          4950  434.43\n",
      "98      12143  19D           515  152.15\n",
      "99      12143  19C         20984  286.62\n",
      "\n",
      "[100 rows x 4 columns]\n",
      "df2에 저장된 데이터 화면에 출력하기\n",
      "    flight_no seat  passenger_id   price  row_number\n",
      "61       3863   6E           155  466.79           6\n",
      "60       3863   6F         13481  462.32           6\n",
      "460.csv 파일로 저장하기\n"
     ]
    }
   ],
   "source": [
    "# 문제와 같이 제공된 booking-100.csv 파일을 읽은 후, df 변수에 저장합니다.\n",
    "df = pd.read_csv('booking-100.csv', sep='\\t')\n",
    "\n",
    "#df 에 저장된 데이터를 화면에 출력합니다.\n",
    "print(\"데이터 화면에 출력\")\n",
    "print(df)\n",
    "\n",
    "# 편리하게 하기 위해서 seat 컬럼에서 숫자 부분만 추출하여 새 컬럼 row_number를 만든다. \n",
    "# 숫자와 문자가 함께 있는 문자열인데 숫자만 뽑아내어 행 번호로 사용하는게 더 편하다고 판단함.\n",
    "df['row_number'] = df['seat'].str.extract(r'(\\d+)', expand=False).astype(int)\n",
    "\n",
    "# 비행기표를 $460 이상 주고 구매했고 좌석 열이 6인 모든 경우를 찾고, \n",
    "# 구매가격을 내림차순 으로 정렬한 후, df2 변수에 저장합니다\n",
    "df2 = df[(df['price'] >= 460) & (df['row_number'] == 6)].sort_values(by='price', ascending=False)\n",
    "\n",
    "# df2 에 저장된 데이터를 화면에 출력합니다.\n",
    "print('df2에 저장된 데이터 화면에 출력하기')\n",
    "print(df2)\n",
    "\n",
    "# df2 에 저장된 데이터를 460.csv 파일로 저장하는데, \n",
    "# index (aka. row names)는 제외 하고 저장해서 제출합니다.\n",
    "df2.to_csv('460.csv', index=False)\n",
    "print(\"460.csv 파일로 저장하기\")"
   ]
  },
  {
   "cell_type": "code",
   "execution_count": null,
   "id": "e9a5161a-3c7e-4388-ac0d-96f751e58623",
   "metadata": {},
   "outputs": [],
   "source": []
  }
 ],
 "metadata": {
  "kernelspec": {
   "display_name": "Python 3 (ipykernel)",
   "language": "python",
   "name": "python3"
  },
  "language_info": {
   "codemirror_mode": {
    "name": "ipython",
    "version": 3
   },
   "file_extension": ".py",
   "mimetype": "text/x-python",
   "name": "python",
   "nbconvert_exporter": "python",
   "pygments_lexer": "ipython3",
   "version": "3.11.6"
  }
 },
 "nbformat": 4,
 "nbformat_minor": 5
}
